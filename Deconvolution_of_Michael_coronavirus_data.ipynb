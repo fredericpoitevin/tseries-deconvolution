{
  "nbformat": 4,
  "nbformat_minor": 0,
  "metadata": {
    "colab": {
      "name": "Deconvolution of Michael coronavirus data.ipynb",
      "provenance": [],
      "authorship_tag": "ABX9TyPQpE+zNcuURgNF3X00McbM",
      "include_colab_link": true
    },
    "kernelspec": {
      "name": "python3",
      "display_name": "Python 3"
    }
  },
  "cells": [
    {
      "cell_type": "markdown",
      "metadata": {
        "id": "view-in-github",
        "colab_type": "text"
      },
      "source": [
        "<a href=\"https://colab.research.google.com/github/fredericpoitevin/tseries-deconvolution/blob/master/Deconvolution_of_Michael_coronavirus_data.ipynb\" target=\"_parent\"><img src=\"https://colab.research.google.com/assets/colab-badge.svg\" alt=\"Open In Colab\"/></a>"
      ]
    },
    {
      "cell_type": "markdown",
      "metadata": {
        "id": "52xY2i087JXT",
        "colab_type": "text"
      },
      "source": [
        "# Introduction\n",
        "\n",
        "We are interested in the following scenario:\n",
        "We have access to two cumulative time-series that we call cause (or _cases_ $C(t)$ the total number of cases at time $t$) and consequence (or _deaths_ $D(t) $ the total number of deaths at time $t$). We assume that consequence is cause convolved with an unknown kernel $K$, and we are interested in inferring the kernel function, or at least its parameters.\n",
        "\n",
        "Formally, \n",
        "\n",
        "$$\\frac{\\partial D}{\\partial \\tau}|_{\\tau=t} = \\sum_{s=0}^{t} K(t-s)\\frac{\\partial C}{\\partial \\tau}|_{\\tau=s}$$\n",
        "\n",
        "We have access to samples of the cumulative time-series at fixed time intervals $\\Delta t$, we can thus discretize the above equation with finite difference. For $i \\geq 1$, we introduce $f_{i} = \\frac{F(i\\Delta t) - F((i-1)\\Delta t)}{\\Delta t}$:\n",
        "\n",
        "$$d_{i} = \\sum_{j=1}^{i}k_{ij}c_{j}$$"
      ]
    },
    {
      "cell_type": "code",
      "metadata": {
        "id": "w_OBe90r6zJw",
        "colab_type": "code",
        "colab": {}
      },
      "source": [
        ""
      ],
      "execution_count": 0,
      "outputs": []
    },
    {
      "cell_type": "code",
      "metadata": {
        "id": "2JIGCP5t7IlB",
        "colab_type": "code",
        "colab": {}
      },
      "source": [
        "|"
      ],
      "execution_count": 0,
      "outputs": []
    },
    {
      "cell_type": "code",
      "metadata": {
        "id": "RrIL9Orv7J8w",
        "colab_type": "code",
        "colab": {}
      },
      "source": [
        ""
      ],
      "execution_count": 0,
      "outputs": []
    },
    {
      "cell_type": "markdown",
      "metadata": {
        "id": "Dk2x7wDP7OIv",
        "colab_type": "text"
      },
      "source": [
        "# Toolkit"
      ]
    },
    {
      "cell_type": "code",
      "metadata": {
        "id": "EJ8pDxRJ7O3A",
        "colab_type": "code",
        "colab": {}
      },
      "source": [
        "# load all libraries\n",
        "import os\n",
        "import numpy as np\n",
        "from matplotlib import pyplot as plt\n",
        "from google.colab import files\n",
        "from scipy.optimize import curve_fit"
      ],
      "execution_count": 0,
      "outputs": []
    },
    {
      "cell_type": "code",
      "metadata": {
        "id": "0QkCNH1i8ROp",
        "colab_type": "code",
        "colab": {}
      },
      "source": [
        "def synthesize_tseries(t, function='gaussian', params=None, normalize=False):\n",
        "  \"\"\"synthesize_tseries(t, function='gaussian', params=None, normalize=False)\n",
        "  Arguments:\n",
        "  ---------\n",
        "  - t: time-points (array. Mandatory)\n",
        "  - function: shape of the distribution (only 'gaussian' is available for now. Optional, gaussian by default)\n",
        "  - params: parameters of function (optional or mandatory depending on function)\n",
        "  - normalize: whether function is to be normalized or not.\n",
        "  Returns:\n",
        "  -------\n",
        "  tseries: function evaluated at t\n",
        "  \"\"\"\n",
        "  if(function=='gaussian'):\n",
        "    if params is None:\n",
        "      print('WARNING! please provide the following parameters for your gaussian function')\n",
        "      print('>>>>>>>> gaussian = synthesize_tseries(t, params=[amplitude, origin, width])')\n",
        "    else:\n",
        "      tseries = gaussian(t, params[0], params[1], params[2], normalize=normalize)\n",
        "  else:\n",
        "    print('WARNING! only gaussian function has been implemented so far...')\n",
        "    tseries=None\n",
        "  return tseries\n",
        "\n",
        "def gaussian(x, amplitude, center, sigma, normalize=False):\n",
        "  \"\"\"gaussian(x, amplitude, center, sigma)\n",
        "  Arguments:\n",
        "  - x         : data points at which gaussian is evaluated (mandatory)\n",
        "  - amplitude : mandatory\n",
        "  - center    : mandatory\n",
        "  - sigma     : mandatory\n",
        "  - normalize : if True, rescales amplitude to normalize gaussian\n",
        "  \"\"\"\n",
        "  if normalize:\n",
        "    amplitude /= np.sqrt(2*np.pi)*sigma\n",
        "  return amplitude*np.exp(-0.5*((x-center)/sigma)**2)"
      ],
      "execution_count": 0,
      "outputs": []
    }
  ]
}